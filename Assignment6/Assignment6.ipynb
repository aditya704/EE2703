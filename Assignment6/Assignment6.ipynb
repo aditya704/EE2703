{
 "cells": [
  {
   "cell_type": "markdown",
   "metadata": {
    "include": 0
   },
   "source": [
    "<h1 align='center'>EE2703 Applied Programming Lab</h1>\n",
    "<h2 align='center'>Assignment 6</h2>\n",
    "<h3 align='center'>March 7, 2018</h3>\n",
    "<h3 align='center'>Rajat Vadiraj Dwaraknath EE16B033</h3>"
   ]
  },
  {
   "cell_type": "markdown",
   "metadata": {},
   "source": [
    "# Introduction\n",
    "In this assignment, we analyze one method of numerically solving _Laplace's Equation_:\n",
    "\n",
    "$$\\nabla^2 \\phi = 0$$\n",
    "\n",
    "This equation is a special case of _Poisson's Equation_:\n",
    "\n",
    "$$\\nabla^2 \\phi = f$$\n",
    "\n",
    "Where $\\phi(x,y)$ is a scalar function describing some potential, and $f(x,y)$ is a scalar function describing some source density. If there are no sources, Poisson's equation reduces to Laplace's equation.  \n",
    "\n",
    "In this assignment, we look at one particular instance of Poisson's equation, which arises in electrostatics. The electrostatic potential $V$ is given by:\n",
    "\n",
    "$$\\nabla^2 V = -\\frac{\\rho}{\\epsilon}$$\n",
    "\n",
    "Where $\\rho$ is the charge density and $\\epsilon$ is the permittivity of free space. Given that there are no charges in the region of interest, it reduces to:\n",
    "\n",
    "$$\\nabla^2 V = 0$$\n",
    "\n",
    "This equation involving contiuous partial derivatives is converted to a discrete difference equation in 2 dimensions using the central difference approximation for second derivatives. On manipulating that equation we arrive at the condition that the potential at any point is equal to the average of the potential of its neighbors. We use this fact to iteratively approach a solution, by replacing each point in our estimate of the potential by the average of its neighbors. This iterative process approaches the true solution, albeit extremely slowly. We analyse the rate at which the error decays as well, and estimate the total error by analytically integrating a fit of the estimated errors.\n",
    "\n",
    "Note that, while solving Poisson's equation with non-zero sources, the averaging term also includes a contribution from the source component.\n",
    "\n",
    "We then find the current density $\\vec{J}$ in the region by using the following equations:\n",
    "\n",
    "$$\\vec{E} = -\\nabla V$$\n",
    "$$\\vec{J} = \\sigma \\vec{E}$$\n",
    "\n",
    "We look at a particular situation where a circular conducting electrode at a fixed potential of $1$ volt is connected to a 2 dimensional square plate. One of the sides of the plates is grounded to $0$ volts."
   ]
  },
  {
   "cell_type": "code",
   "execution_count": 48,
   "metadata": {
    "include": 0
   },
   "outputs": [],
   "source": [
    "%%capture\n",
    "# Importing numpy and matplotlib\n",
    "%pylab inline \n",
    "from IPython.display import *"
   ]
  },
  {
   "cell_type": "code",
   "execution_count": 49,
   "metadata": {
    "include": 0
   },
   "outputs": [],
   "source": [
    "# Increase figure and font size\n",
    "rcParams['figure.figsize'] = 12,9\n",
    "rcParams['font.size'] = 18\n",
    "rcParams['text.usetex'] = True"
   ]
  },
  {
   "cell_type": "markdown",
   "metadata": {},
   "source": [
    "# file stuffs"
   ]
  },
  {
   "cell_type": "code",
   "execution_count": 86,
   "metadata": {},
   "outputs": [
    {
     "name": "stdout",
     "output_type": "stream",
     "text": [
      "Overwriting ee16b033_6.py\n"
     ]
    }
   ],
   "source": [
    "%%writefile ee16b033_6.py\n",
    "\n",
    "from pylab import *\n",
    "import sys\n",
    "import argparse\n",
    "\n",
    "ARGS = {\"n\":100,\n",
    "       \"M\":5,\n",
    "       \"nk\":500,\n",
    "       \"u0\":5,\n",
    "       \"p\":0.25}\n",
    "\n",
    "def addargs(args,parser):\n",
    "    for arg in args:\n",
    "        parser.add_argument('-{}'.format(arg),default=args[arg],type=type(args[arg]))\n",
    "        \n",
    "ap = argparse.ArgumentParser()\n",
    "addargs(ARGS,ap)\n",
    "args = ap.parse_args()\n",
    "\n",
    "for arg in ARGS:\n",
    "    exec(\"{} = args.{}\".format(arg,arg))\n",
    "    "
   ]
  },
  {
   "cell_type": "code",
   "execution_count": 87,
   "metadata": {},
   "outputs": [
    {
     "name": "stdout",
     "output_type": "stream",
     "text": [
      "Appending to ee16b033_6.py\n"
     ]
    }
   ],
   "source": [
    "%%writefile ee16b033_6.py -a\n",
    "\n",
    "print(n)"
   ]
  },
  {
   "cell_type": "code",
   "execution_count": 1,
   "metadata": {},
   "outputs": [
    {
     "ename": "ImportError",
     "evalue": "No module named 'writefile_run'",
     "output_type": "error",
     "traceback": [
      "\u001b[0;31m---------------------------------------------------------------------------\u001b[0m",
      "\u001b[0;31mImportError\u001b[0m                               Traceback (most recent call last)",
      "\u001b[0;32m<ipython-input-1-2e9f8a4d10ce>\u001b[0m in \u001b[0;36m<module>\u001b[0;34m()\u001b[0m\n\u001b[0;32m----> 1\u001b[0;31m \u001b[0;32mimport\u001b[0m \u001b[0mwritefile_run\u001b[0m\u001b[0;34m\u001b[0m\u001b[0m\n\u001b[0m",
      "\u001b[0;31mImportError\u001b[0m: No module named 'writefile_run'"
     ]
    }
   ],
   "source": [
    "import writefile_run"
   ]
  },
  {
   "cell_type": "code",
   "execution_count": 85,
   "metadata": {},
   "outputs": [
    {
     "name": "stdout",
     "output_type": "stream",
     "text": [
      "415\r\n"
     ]
    }
   ],
   "source": [
    "!python ee16b033_6.py -n 415 -M 2"
   ]
  },
  {
   "cell_type": "code",
   "execution_count": 55,
   "metadata": {},
   "outputs": [
    {
     "name": "stderr",
     "output_type": "stream",
     "text": [
      "usage: ipykernel_launcher.py [-h] [-n N] [-nk NK] [-p P] [-u0 U0] [-M M]\n",
      "ipykernel_launcher.py: error: unrecognized arguments: -f /run/user/1000/jupyter/kernel-98da496e-1788-4637-80c7-eefe3ea32173.json\n"
     ]
    },
    {
     "ename": "SystemExit",
     "evalue": "2",
     "output_type": "error",
     "traceback": [
      "An exception has occurred, use %tb to see the full traceback.\n",
      "\u001b[0;31mSystemExit\u001b[0m\u001b[0;31m:\u001b[0m 2\n"
     ]
    },
    {
     "name": "stderr",
     "output_type": "stream",
     "text": [
      "/home/rajat/.local/lib/python3.5/site-packages/IPython/core/interactiveshell.py:2918: UserWarning: To exit: use 'exit', 'quit', or Ctrl-D.\n",
      "  warn(\"To exit: use 'exit', 'quit', or Ctrl-D.\", stacklevel=1)\n"
     ]
    }
   ],
   "source": [
    "with open('ee16b033_6.py') as f:\n",
    "    prog = f.read()\n",
    "exec(prog)"
   ]
  },
  {
   "cell_type": "code",
   "execution_count": 54,
   "metadata": {},
   "outputs": [
    {
     "ename": "NameError",
     "evalue": "name 'n' is not defined",
     "output_type": "error",
     "traceback": [
      "\u001b[0;31m---------------------------------------------------------------------------\u001b[0m",
      "\u001b[0;31mNameError\u001b[0m                                 Traceback (most recent call last)",
      "\u001b[0;32m<ipython-input-54-7764d07a364a>\u001b[0m in \u001b[0;36m<module>\u001b[0;34m()\u001b[0m\n\u001b[1;32m      1\u001b[0m \u001b[0;31m#%%writefile ee16b033_6.py -a\u001b[0m\u001b[0;34m\u001b[0m\u001b[0;34m\u001b[0m\u001b[0m\n\u001b[1;32m      2\u001b[0m \u001b[0;34m\u001b[0m\u001b[0m\n\u001b[0;32m----> 3\u001b[0;31m \u001b[0mxx\u001b[0m \u001b[0;34m=\u001b[0m \u001b[0mzeros\u001b[0m\u001b[0;34m(\u001b[0m\u001b[0mn\u001b[0m\u001b[0;34m*\u001b[0m\u001b[0mM\u001b[0m\u001b[0;34m)\u001b[0m\u001b[0;34m\u001b[0m\u001b[0m\n\u001b[0m\u001b[1;32m      4\u001b[0m \u001b[0mu\u001b[0m \u001b[0;34m=\u001b[0m \u001b[0mzeros\u001b[0m\u001b[0;34m(\u001b[0m\u001b[0mn\u001b[0m\u001b[0;34m*\u001b[0m\u001b[0mM\u001b[0m\u001b[0;34m)\u001b[0m\u001b[0;34m\u001b[0m\u001b[0m\n\u001b[1;32m      5\u001b[0m \u001b[0mdx\u001b[0m \u001b[0;34m=\u001b[0m \u001b[0mzeros\u001b[0m\u001b[0;34m(\u001b[0m\u001b[0mn\u001b[0m\u001b[0;34m*\u001b[0m\u001b[0mM\u001b[0m\u001b[0;34m)\u001b[0m\u001b[0;34m\u001b[0m\u001b[0m\n",
      "\u001b[0;31mNameError\u001b[0m: name 'n' is not defined"
     ]
    }
   ],
   "source": [
    "#%%writefile ee16b033_6.py -a\n",
    "\n",
    "xx = zeros(n*M)\n",
    "u = zeros(n*M)\n",
    "dx = zeros(n*M)"
   ]
  },
  {
   "cell_type": "code",
   "execution_count": null,
   "metadata": {},
   "outputs": [],
   "source": []
  },
  {
   "cell_type": "code",
   "execution_count": null,
   "metadata": {},
   "outputs": [],
   "source": []
  }
 ],
 "metadata": {
  "anaconda-cloud": {},
  "kernelspec": {
   "display_name": "Python 3",
   "language": "python",
   "name": "python3"
  },
  "language_info": {
   "codemirror_mode": {
    "name": "ipython",
    "version": 3
   },
   "file_extension": ".py",
   "mimetype": "text/x-python",
   "name": "python",
   "nbconvert_exporter": "python",
   "pygments_lexer": "ipython3",
   "version": "3.5.2"
  },
  "title": "EE2703 Applied Programming Lab - Assignment 6"
 },
 "nbformat": 4,
 "nbformat_minor": 2
}
