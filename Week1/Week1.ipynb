{
 "cells": [
  {
   "cell_type": "markdown",
   "metadata": {},
   "source": [
    "<h1 align='center'>EE2703 Applied Programming Lab</h1>\n",
    "<h2 align='center'>Assignment 1</h2>\n",
    "<h3 align='center'>Jan 26, 2018</h3>\n",
    "<h3 align='center'>Rajat Vadiraj Dwaraknath EE16B033</h3>\n",
    "\n",
    "# Part 1\n",
    "First, numpy and matplotlib are imported inline using pylab."
   ]
  },
  {
   "cell_type": "code",
   "execution_count": 1,
   "metadata": {},
   "outputs": [
    {
     "name": "stdout",
     "output_type": "stream",
     "text": [
      "Populating the interactive namespace from numpy and matplotlib\n"
     ]
    }
   ],
   "source": [
    "%pylab inline"
   ]
  },
  {
   "cell_type": "code",
   "execution_count": 2,
   "metadata": {},
   "outputs": [],
   "source": [
    "rcParams['figure.figsize']=12,9 # bigger plots\n",
    "rcParams['font.size']=15 # bigger text in plots"
   ]
  },
  {
   "cell_type": "markdown",
   "metadata": {},
   "source": [
    "The given algorithm for computing fibonacci numbers is implemented in C below. The contents of the cell below are written into the file __fib.c__ whenever it is run."
   ]
  },
  {
   "cell_type": "code",
   "execution_count": 3,
   "metadata": {},
   "outputs": [
    {
     "name": "stdout",
     "output_type": "stream",
     "text": [
      "Overwriting fib.c\n"
     ]
    }
   ],
   "source": [
    "%%writefile fib.c\n",
    "#include<stdlib.h>\n",
    "#include<stdio.h>\n",
    "\n",
    "int main(){\n",
    "    int n=1, nold=1, new=0,k;\n",
    "    printf(\"1 %d\\n\",n);\n",
    "    printf(\"2 %d\\n\",nold);\n",
    "    for(k=3;k<=10;k++){\n",
    "        new = n+nold;\n",
    "        nold=n;\n",
    "        n=new;\n",
    "        printf(\"%d %d\\n\",k,new);\n",
    "    }\n",
    "}"
   ]
  },
  {
   "cell_type": "markdown",
   "metadata": {},
   "source": [
    "Terminal commands are run using the __!__ prefix."
   ]
  },
  {
   "cell_type": "code",
   "execution_count": 4,
   "metadata": {},
   "outputs": [],
   "source": [
    "!gcc fib.c -o fib.out"
   ]
  },
  {
   "cell_type": "code",
   "execution_count": 5,
   "metadata": {},
   "outputs": [
    {
     "name": "stdout",
     "output_type": "stream",
     "text": [
      "1 1\r\n",
      "2 1\r\n",
      "3 2\r\n",
      "4 3\r\n",
      "5 5\r\n",
      "6 8\r\n",
      "7 13\r\n",
      "8 21\r\n",
      "9 34\r\n",
      "10 55\r\n"
     ]
    }
   ],
   "source": [
    "!./fib.out"
   ]
  },
  {
   "cell_type": "markdown",
   "metadata": {},
   "source": [
    "Now, the python implementation:"
   ]
  },
  {
   "cell_type": "code",
   "execution_count": 6,
   "metadata": {},
   "outputs": [],
   "source": [
    "def fib():\n",
    "    n=1\n",
    "    nold=1\n",
    "    new=0\n",
    "    print(\"1 1\\n2 1\")\n",
    "    for k in range(3,11,1):\n",
    "        new=n+nold\n",
    "        nold=n\n",
    "        n=new\n",
    "        print (k,new)"
   ]
  },
  {
   "cell_type": "code",
   "execution_count": 7,
   "metadata": {},
   "outputs": [
    {
     "name": "stdout",
     "output_type": "stream",
     "text": [
      "1 1\n",
      "2 1\n",
      "3 2\n",
      "4 3\n",
      "5 5\n",
      "6 8\n",
      "7 13\n",
      "8 21\n",
      "9 34\n",
      "10 55\n"
     ]
    }
   ],
   "source": [
    "fib()"
   ]
  },
  {
   "cell_type": "markdown",
   "metadata": {},
   "source": [
    "# Part 2\n",
    "The C implementation of the second question is given below:"
   ]
  },
  {
   "cell_type": "code",
   "execution_count": 8,
   "metadata": {},
   "outputs": [
    {
     "name": "stdout",
     "output_type": "stream",
     "text": [
      "Overwriting list.c\n"
     ]
    }
   ],
   "source": [
    "%%writefile list.c\n",
    "#include<stdlib.h>\n",
    "#include<stdio.h>\n",
    "#include<math.h>\n",
    "\n",
    "int main(){\n",
    "    double n[1000];\n",
    "    n[0]=0.2;\n",
    "    double alpha = M_PI, temp;\n",
    "    int k;\n",
    "    for(k=1;k<1000;k++){\n",
    "        temp = (n[k-1]+M_PI)*100;\n",
    "        n[k] = temp - (long)(temp);\n",
    "    }\n",
    "    for(k=0;k<1000;k++){\n",
    "        printf(\"%0.4f\\n\",n[k]);\n",
    "    }\n",
    "}"
   ]
  },
  {
   "cell_type": "code",
   "execution_count": 9,
   "metadata": {},
   "outputs": [],
   "source": [
    "!gcc list.c -o list.out"
   ]
  },
  {
   "cell_type": "code",
   "execution_count": 10,
   "metadata": {},
   "outputs": [
    {
     "name": "stdout",
     "output_type": "stream",
     "text": [
      "0.2000\r\n",
      "0.1593\r\n",
      "0.0858\r\n",
      "0.7394\r\n",
      "0.0984\r\n",
      "0.9963\r\n",
      "0.7896\r\n",
      "0.1154\r\n",
      "0.6964\r\n",
      "0.8029\r\n",
      "0.4540\r\n",
      "0.5602\r\n",
      "0.1808\r\n",
      "0.2372\r\n",
      "0.8794\r\n",
      "0.1018\r\n",
      "0.3353\r\n",
      "0.6935\r\n",
      "0.5089\r\n",
      "0.0519\r\n",
      "0.3488\r\n",
      "0.0363\r\n",
      "0.7863\r\n",
      "0.7863\r\n",
      "0.7863\r\n",
      "0.7863\r\n",
      "0.7863\r\n",
      "0.7863\r\n",
      "0.7863\r\n",
      "0.7863\r\n"
     ]
    }
   ],
   "source": [
    "!./list.out > outC.txt\n",
    "!head out.txt -n 30 #print only a few lines"
   ]
  },
  {
   "cell_type": "markdown",
   "metadata": {},
   "source": [
    "The python implementation:"
   ]
  },
  {
   "cell_type": "code",
   "execution_count": 11,
   "metadata": {},
   "outputs": [],
   "source": [
    "def listProgram():\n",
    "    import math\n",
    "    n=[0.2]\n",
    "    for k in range(1,1000):\n",
    "        t = (n[k-1]+math.pi)*100\n",
    "        n.append(t-int(t))\n",
    "    \n",
    "    for i in n:\n",
    "        print(\"%.4f\"%i)"
   ]
  },
  {
   "cell_type": "code",
   "execution_count": 12,
   "metadata": {},
   "outputs": [
    {
     "name": "stdout",
     "output_type": "stream",
     "text": [
      "0.2000\r\n",
      "0.1593\r\n",
      "0.0858\r\n",
      "0.7394\r\n",
      "0.0984\r\n",
      "0.9963\r\n",
      "0.7896\r\n",
      "0.1154\r\n",
      "0.6964\r\n",
      "0.8029\r\n",
      "0.4540\r\n",
      "0.5602\r\n",
      "0.1808\r\n",
      "0.2372\r\n",
      "0.8794\r\n",
      "0.1018\r\n",
      "0.3353\r\n",
      "0.6935\r\n",
      "0.5089\r\n",
      "0.0519\r\n",
      "0.3488\r\n",
      "0.0363\r\n",
      "0.7863\r\n",
      "0.7863\r\n",
      "0.7863\r\n",
      "0.7863\r\n",
      "0.7863\r\n",
      "0.7863\r\n",
      "0.7863\r\n",
      "0.7863\r\n"
     ]
    }
   ],
   "source": [
    "# Context manager to redirect stdout to a file\n",
    "from contextlib import redirect_stdout\n",
    "\n",
    "with open(\"outPy.txt\",\"w\") as f:\n",
    "    with redirect_stdout(f):\n",
    "        listProgram()\n",
    "        \n",
    "!head outPy.txt -n 30 # display few lines of the file"
   ]
  },
  {
   "cell_type": "markdown",
   "metadata": {},
   "source": [
    "# Part 3\n",
    "The third part is implemented below:"
   ]
  },
  {
   "cell_type": "code",
   "execution_count": 13,
   "metadata": {},
   "outputs": [],
   "source": [
    "def freq():\n",
    "    import re, string\n",
    "    \n",
    "    with open('the-hound-of-the-baskervilles.txt', 'r') as f:\n",
    "        contents = f.read()\n",
    "    \n",
    "    d = {}\n",
    "    words = re.split(\"[\" + string.punctuation + \"\\\\n ]+\", contents)\n",
    "    \n",
    "    for word in words:\n",
    "        if len(word.strip())==0:continue\n",
    "        d[word] = d.get(word,0)+1\n",
    "    \n",
    "    # sort based on number of words in descending order\n",
    "    for key in sorted(d, key = lambda x:-d[x]): \n",
    "        print(key,d[key])"
   ]
  },
  {
   "cell_type": "code",
   "execution_count": 14,
   "metadata": {
    "scrolled": true
   },
   "outputs": [
    {
     "name": "stdout",
     "output_type": "stream",
     "text": [
      "the 3146\r\n",
      "of 1643\r\n",
      "and 1552\r\n",
      "I 1501\r\n",
      "to 1433\r\n",
      "a 1260\r\n",
      "that 1091\r\n",
      "in 885\r\n",
      "it 804\r\n",
      "was 793\r\n"
     ]
    }
   ],
   "source": [
    "with open(\"wordFreq.txt\",\"w\") as f:\n",
    "    with redirect_stdout(f):\n",
    "        freq()\n",
    "!head wordFreq.txt -n 10"
   ]
  },
  {
   "cell_type": "markdown",
   "metadata": {},
   "source": [
    "The word distribution of the most common words is visulaized using a bar plot."
   ]
  },
  {
   "cell_type": "code",
   "execution_count": 15,
   "metadata": {},
   "outputs": [],
   "source": [
    "a = np.genfromtxt(\"wordFreq.txt\", \n",
    "                  dtype=[(\"word\",\"<U16\"), (\"freq\",np.uint32)])"
   ]
  },
  {
   "cell_type": "code",
   "execution_count": 16,
   "metadata": {},
   "outputs": [],
   "source": [
    "# extract the words and frequencies from the file\n",
    "words,freq=list(zip(*list(a))) "
   ]
  },
  {
   "cell_type": "code",
   "execution_count": 17,
   "metadata": {
    "scrolled": false
   },
   "outputs": [
    {
     "data": {
      "image/png": "[encoded data removed]",
      "text/plain": [
       "<matplotlib.figure.Figure at 0x7fad097ef7f0>"
      ]
     },
     "metadata": {},
     "output_type": "display_data"
    }
   ],
   "source": [
    "numWords = 10 #how many words to plot\n",
    "title(\"Frequency of words in the text\")\n",
    "bar(arange(numWords),freq[:numWords]) # plot the bars\n",
    "xticks(arange(numWords)+0.4,words[:numWords]) # label the axis\n",
    "xlabel(\"Word\")\n",
    "ylabel(\"Frequency\")\n",
    "show()"
   ]
  }
 ],
 "metadata": {
  "kernelspec": {
   "display_name": "Python 3",
   "language": "python",
   "name": "python3"
  },
  "language_info": {
   "codemirror_mode": {
    "name": "ipython",
    "version": 3
   },
   "file_extension": ".py",
   "mimetype": "text/x-python",
   "name": "python",
   "nbconvert_exporter": "python",
   "pygments_lexer": "ipython3",
   "version": "3.5.2"
  }
 },
 "nbformat": 4,
 "nbformat_minor": 2
}
